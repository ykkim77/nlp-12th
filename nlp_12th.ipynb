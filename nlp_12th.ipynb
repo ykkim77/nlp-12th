{
  "nbformat": 4,
  "nbformat_minor": 0,
  "metadata": {
    "colab": {
      "name": "nlp-12th.ipynb",
      "provenance": [],
      "collapsed_sections": [],
      "authorship_tag": "ABX9TyP89paBqOf5wW8/CLTM2bL1",
      "include_colab_link": true
    },
    "kernelspec": {
      "display_name": "Python 3",
      "name": "python3"
    },
    "language_info": {
      "name": "python"
    }
  },
  "cells": [
    {
      "cell_type": "markdown",
      "metadata": {
        "id": "view-in-github",
        "colab_type": "text"
      },
      "source": [
        "<a href=\"https://colab.research.google.com/github/ykkim77/nlp-12th/blob/main/nlp_12th.ipynb\" target=\"_parent\"><img src=\"https://colab.research.google.com/assets/colab-badge.svg\" alt=\"Open In Colab\"/></a>"
      ]
    },
    {
      "cell_type": "code",
      "metadata": {
        "id": "Zo_30ldhMC5r"
      },
      "source": [
        "!git clone https://github.com/e9t/nsmc"
      ],
      "execution_count": null,
      "outputs": []
    },
    {
      "cell_type": "code",
      "metadata": {
        "id": "8_HKD3SgMPg0"
      },
      "source": [
        "def read_data(filename):\n",
        "    with open(filename, 'r') as f:\n",
        "        data = [line.split('\\t') for line in f.read().splitlines()]\n",
        "        # txt 파일의 헤더(id document label)는 제외하기\n",
        "        data = data[1:]\n",
        "    return data\n",
        "\n",
        "train_data = read_data('/content/nsmc/ratings_train.txt')\n",
        "test_data = read_data('/content/nsmc/ratings_test.txt')"
      ],
      "execution_count": null,
      "outputs": []
    },
    {
      "cell_type": "code",
      "metadata": {
        "id": "3g6XBGjtMvQV"
      },
      "source": [
        "!pip install konlpy\n",
        "from konlpy.tag import Okt\n",
        "\n",
        "okt = Okt()\n",
        "print(okt.pos(u'이 밤 그날의 반딧불을 당신의 창 가까이 보낼게요'))"
      ],
      "execution_count": null,
      "outputs": []
    },
    {
      "cell_type": "code",
      "metadata": {
        "id": "1PS8Lx6NFdec"
      },
      "source": [
        "import json\n",
        "import os\n",
        "from pprint import pprint\n",
        "\n",
        "def tokenize(doc):\n",
        "    # norm은 정규화, stem은 근어로 표시하기를 나타냄\n",
        "    return ['/'.join(t) for t in okt.pos(doc, norm=True, stem=True)]"
      ],
      "execution_count": null,
      "outputs": []
    },
    {
      "cell_type": "markdown",
      "metadata": {
        "id": "5dL2b1_NUsJf"
      },
      "source": [
        "**아래의 코드는 수행 시간이 매우 길다는 것을 참고하세요.**"
      ]
    },
    {
      "cell_type": "code",
      "metadata": {
        "id": "CoK-nDTYM-js"
      },
      "source": [
        "if os.path.isfile('train_docs.json'):\n",
        "    with open('train_docs.json') as f:\n",
        "        train_docs = json.load(f)\n",
        "    with open('test_doc.josn') as f:\n",
        "        test_docs = json.load(f)\n",
        "else:\n",
        "    train_docs = [(tokenize(row[1]), row[2]) for row in train_data]\n",
        "    test_docs = [(tokenize(row[1]), row[2]) for row in test_data]\n",
        "    # JSON 파일로 저장\n",
        "    with open('tarin_doc.json','w', encoding='utf-8') as make_file:\n",
        "        json.dump(train_docs,make_file, ensure_ascii=False, indent='\\t')\n",
        "    with open('test_doc.json','w', encoding='utf-8') as make_file:\n",
        "        json.dump(test_docs,make_file, ensure_ascii=False, indent='\\t')\n",
        "\n",
        "# 보기 좋게 출력하기 위해서 pprint 라이브러리 사용\n",
        "\n",
        "pprint(train_docs[0])"
      ],
      "execution_count": null,
      "outputs": []
    },
    {
      "cell_type": "code",
      "metadata": {
        "id": "--RlItgvPIPV"
      },
      "source": [
        "tokens = [t for d in train_docs for t in d[0]]\n",
        "print(len(tokens))"
      ],
      "execution_count": null,
      "outputs": []
    },
    {
      "cell_type": "code",
      "metadata": {
        "id": "SPIU03uEPh9d"
      },
      "source": [
        "import nltk\n",
        "text = nltk.Text(tokens, name='NMSC')\n",
        "\n",
        "#전체 토큰의 개수\n",
        "print(len(text.tokens))\n",
        "\n",
        "# 중복을 제외한 토큰의 개수\n",
        "print(len(set(text.tokens)))\n",
        "\n",
        "#출현 빈도가 높은 상위 토큰 10개\n",
        "pprint(text.vocab().most_common(10))"
      ],
      "execution_count": null,
      "outputs": []
    },
    {
      "cell_type": "code",
      "metadata": {
        "id": "6d6tG9JT9pSs"
      },
      "source": [
        "selected_words = [f[0] for f in text.vocab().most_common(1000) ]\n",
        "\n",
        "def term_frequency(doc):\n",
        "    return [doc.count(word) for word in selected_words]\n",
        "\n",
        "train_x = [term_frequency(d) for d, _ in train_docs]\n",
        "test_x = [term_frequency(d) for d, _ in test_docs]\n",
        "train_y = [c for _, c in train_docs]\n",
        "test_y = [c for _, c in test_docs]"
      ],
      "execution_count": null,
      "outputs": []
    },
    {
      "cell_type": "code",
      "metadata": {
        "id": "1l5pym2F-jNH"
      },
      "source": [
        "import numpy as np\n",
        "\n",
        "x_train = np.asarrya(train_x).astype('float32')\n",
        "x_test = np.asrray(test_x).astype('float32')\n",
        "\n",
        "y_train = np.asrray(train_y).astype('float32')\n",
        "y_test = np.asarray(test_y.astype('float32'))"
      ],
      "execution_count": null,
      "outputs": []
    },
    {
      "cell_type": "code",
      "metadata": {
        "id": "2HdgNqr9_Ls0"
      },
      "source": [
        "from tensorflow.keras import mdels\n",
        "from tensorflow.keras import layers\n",
        "from tensorflow.keras import optimizers\n",
        "from tensorflow.keras import losses\n",
        "from tensorflow.keras import metrics\n",
        "\n",
        "model = models.Sequential()\n",
        "model.add(layers.Dense(64, activation='relu', input_shape=(1000,)))\n",
        "model.add(layers.Dense(64, activation='relu'))\n",
        "model.add(layers.Dense(1, activation- 'sigmoid'))\n",
        "\n",
        "model.compile(optimizer=optimizers.RMSprop(lr=0.001),\n",
        "              loss=losses.binary_crossentropy,\n",
        "              metrics=[metrics.binary_accuracy])\n",
        "\n",
        "model.fit(x_train, y_train, epochs=10, batch_size=512)\n",
        "results = model.evaluate(x_test,y_test)\n",
        "           "
      ],
      "execution_count": null,
      "outputs": []
    }
  ]
}